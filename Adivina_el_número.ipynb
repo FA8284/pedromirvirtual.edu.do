{
  "nbformat": 4,
  "nbformat_minor": 0,
  "metadata": {
    "colab": {
      "provenance": [],
      "authorship_tag": "ABX9TyNMFdzx0Q0TromSI7PTIYw7",
      "include_colab_link": true
    },
    "kernelspec": {
      "name": "python3",
      "display_name": "Python 3"
    },
    "language_info": {
      "name": "python"
    }
  },
  "cells": [
    {
      "cell_type": "markdown",
      "metadata": {
        "id": "view-in-github",
        "colab_type": "text"
      },
      "source": [
        "<a href=\"https://colab.research.google.com/github/FA8284/pedromirvirtual.edu.do/blob/main/Adivina_el_n%C3%BAmero.ipynb\" target=\"_parent\"><img src=\"https://colab.research.google.com/assets/colab-badge.svg\" alt=\"Open In Colab\"/></a>"
      ]
    },
    {
      "cell_type": "code",
      "source": [
        "import random\n",
        "\n",
        "print(\"🎲 ¡Bienvenido a 'Adivina el número' con niveles de dificultad e intentos limitados! 🎲\")\n",
        "\n",
        "print(\"Selecciona la dificultad:\")\n",
        "print(\"1. Fácil (1 a 10) - 5 intentos\")\n",
        "print(\"2. Medio (1 a 50) - 7 intentos\")\n",
        "print(\"3. Difícil (1 a 100) - 10 intentos\")\n",
        "\n",
        "while True:\n",
        "    try:\n",
        "        nivel = int(input(\"Elige el nivel (1, 2 o 3): \"))\n",
        "        if nivel == 1:\n",
        "            limite_superior = 10\n",
        "            max_intentos = 5\n",
        "            break\n",
        "        elif nivel == 2:\n",
        "            limite_superior = 50\n",
        "            max_intentos = 7\n",
        "            break\n",
        "        elif nivel == 3:\n",
        "            limite_superior = 100\n",
        "            max_intentos = 10\n",
        "            break\n",
        "        else:\n",
        "            print(\"❗ Opción inválida. Elige 1, 2 o 3.\")\n",
        "    except ValueError:\n",
        "        print(\"❗ Por favor, escribe un número (1, 2 o 3).\")\n",
        "\n",
        "print(f\"\\nHe pensado un número entre 1 y {limite_superior}.\")\n",
        "print(f\"¡Tienes {max_intentos} intentos para adivinarlo!\")\n",
        "\n",
        "numero_secreto = random.randint(1, limite_superior)\n",
        "intentos = 0\n",
        "\n",
        "while intentos < max_intentos:\n",
        "    try:\n",
        "        intento = int(input(f\"Intento {intentos+1}: Escribe tu número: \"))\n",
        "        intentos += 1\n",
        "\n",
        "        if intento < numero_secreto:\n",
        "            print(\"🔻 Muy bajo. Intenta con un número más grande.\")\n",
        "        elif intento > numero_secreto:\n",
        "            print(\"🔺 Muy alto. Intenta con un número más pequeño.\")\n",
        "        else:\n",
        "            print(f\"✅ ¡Correcto! El número era {numero_secreto}.\")\n",
        "            print(f\"🎉 Lo lograste en {intentos} intentos.\")\n",
        "            break\n",
        "    except ValueError:\n",
        "        print(\"❗ Por favor, escribe un número válido.\")\n",
        "else:\n",
        "    print(f\"❌ ¡Has usado todos tus intentos! El número era {numero_secreto}. ¡Suerte para la próxima! 🎈\")\n"
      ],
      "metadata": {
        "id": "SN0mmoekXSA4"
      },
      "execution_count": null,
      "outputs": []
    }
  ]
}